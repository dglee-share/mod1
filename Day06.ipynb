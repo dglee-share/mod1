{
 "cells": [
  {
   "cell_type": "code",
   "execution_count": 7,
   "id": "dc63a307",
   "metadata": {},
   "outputs": [
    {
     "name": "stdout",
     "output_type": "stream",
     "text": [
      "[5, 6, 7, 8, 9, 10, 11, 12, 13, 14, 15, 16, 17, 18, 19]\n"
     ]
    }
   ],
   "source": [
    "list1 = [x for x in range(5,20)]\n",
    "print(list1)\n",
    "\n",
    "with open('day06-1.txt','w') as f:\n",
    "    for v in list1[:-1]:\n",
    "        f.write(str(v))\n",
    "        f.write(',')\n",
    "    f.write(str(list1[-1]))"
   ]
  },
  {
   "cell_type": "code",
   "execution_count": 9,
   "id": "13626cdd",
   "metadata": {},
   "outputs": [],
   "source": [
    "import pickle\n",
    "\n",
    "with open('day06-2.pickle','wb') as f:\n",
    "    pickle.dump(list1, f)"
   ]
  },
  {
   "cell_type": "code",
   "execution_count": 10,
   "id": "2e886002",
   "metadata": {},
   "outputs": [
    {
     "name": "stdout",
     "output_type": "stream",
     "text": [
      "[5, 6, 7, 8, 9, 10, 11, 12, 13, 14, 15, 16, 17, 18, 19]\n"
     ]
    }
   ],
   "source": [
    "list3 = []\n",
    "\n",
    "with open('day06-2.pickle','rb') as f:\n",
    "    list3 = pickle.load(f)\n",
    "    \n",
    "print(list3)"
   ]
  }
 ],
 "metadata": {
  "kernelspec": {
   "display_name": "Python 3 (ipykernel)",
   "language": "python",
   "name": "python3"
  },
  "language_info": {
   "codemirror_mode": {
    "name": "ipython",
    "version": 3
   },
   "file_extension": ".py",
   "mimetype": "text/x-python",
   "name": "python",
   "nbconvert_exporter": "python",
   "pygments_lexer": "ipython3",
   "version": "3.10.5"
  }
 },
 "nbformat": 4,
 "nbformat_minor": 5
}
