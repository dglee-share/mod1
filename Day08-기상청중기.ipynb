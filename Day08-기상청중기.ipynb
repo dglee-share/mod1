{
 "cells": [
  {
   "cell_type": "code",
   "execution_count": 6,
   "id": "b718e2da",
   "metadata": {},
   "outputs": [
    {
     "name": "stdout",
     "output_type": "stream",
     "text": [
      "b'<?xml version=\"1.0\" encoding=\"UTF-8\"?>\\r\\n<response><header><resultCode>00</resultCode><resultMsg>NORMAL_SERVICE</resultMsg></header><body><dataType>XML</dataType><items><item><regId>11B10101</regId><taMin3>26</taMin3><taMin3Low>1</taMin3Low><taMin3High>0</taMin3High><taMax3>32</taMax3><taMax3Low>1</taMax3Low><taMax3High>0</taMax3High><taMin4>26</taMin4><taMin4Low>1</taMin4Low><taMin4High>1</taMin4High><taMax4>32</taMax4><taMax4Low>1</taMax4Low><taMax4High>1</taMax4High><taMin5>26</taMin5><taMin5Low>1</taMin5Low><taMin5High>1</taMin5High><taMax5>32</taMax5><taMax5Low>1</taMax5Low><taMax5High>1</taMax5High><taMin6>25</taMin6><taMin6Low>1</taMin6Low><taMin6High>1</taMin6High><taMax6>32</taMax6><taMax6Low>1</taMax6Low><taMax6High>1</taMax6High><taMin7>26</taMin7><taMin7Low>1</taMin7Low><taMin7High>1</taMin7High><taMax7>32</taMax7><taMax7Low>1</taMax7Low><taMax7High>1</taMax7High><taMin8>26</taMin8><taMin8Low>0</taMin8Low><taMin8High>0</taMin8High><taMax8>32</taMax8><taMax8Low>0</taMax8Low><taMax8High>1</taMax8High><taMin9>25</taMin9><taMin9Low>0</taMin9Low><taMin9High>0</taMin9High><taMax9>31</taMax9><taMax9Low>0</taMax9Low><taMax9High>1</taMax9High><taMin10>25</taMin10><taMin10Low>0</taMin10Low><taMin10High>0</taMin10High><taMax10>31</taMax10><taMax10Low>0</taMax10Low><taMax10High>1</taMax10High></item></items><numOfRows>10</numOfRows><pageNo>1</pageNo><totalCount>1</totalCount></body></response>\\r\\n'\n"
     ]
    }
   ],
   "source": [
    "import requests\n",
    "\n",
    "url = 'http://apis.data.go.kr/1360000/MidFcstInfoService/getMidTa'\n",
    "skey = 'do5+utf2lYna4n/J/CnRLqhaoSVTq1Pm8n3Cd78SMWVoA/GunIy41I5s5w+mteCt3wVOqmX+b7VcDFWAPM3Etw=='\n",
    "params ={'serviceKey' : skey, 'regId' : '11B10101', 'tmFc' : '202208010600' }\n",
    "\n",
    "response = requests.get(url, params=params)\n",
    "print(response.content)"
   ]
  },
  {
   "cell_type": "code",
   "execution_count": 7,
   "id": "cce995b3",
   "metadata": {},
   "outputs": [
    {
     "name": "stdout",
     "output_type": "stream",
     "text": [
      "taMin3\n",
      "taMin4\n",
      "taMin5\n",
      "taMin6\n",
      "taMin7\n",
      "taMin8\n",
      "taMin9\n",
      "taMin10\n"
     ]
    }
   ],
   "source": [
    "# taMin3 ~ taMin10: 값.\n",
    "# taMax3 ~ taMax10: 값.\n",
    "\n",
    "for i in range(3,11):\n",
    "    print('taMin{0}'.format(i))"
   ]
  }
 ],
 "metadata": {
  "kernelspec": {
   "display_name": "Python 3 (ipykernel)",
   "language": "python",
   "name": "python3"
  },
  "language_info": {
   "codemirror_mode": {
    "name": "ipython",
    "version": 3
   },
   "file_extension": ".py",
   "mimetype": "text/x-python",
   "name": "python",
   "nbconvert_exporter": "python",
   "pygments_lexer": "ipython3",
   "version": "3.10.5"
  }
 },
 "nbformat": 4,
 "nbformat_minor": 5
}
