{
  "nbformat": 4,
  "nbformat_minor": 0,
  "metadata": {
    "colab": {
      "name": "DAY01.ipynb",
      "provenance": [],
      "collapsed_sections": []
    },
    "kernelspec": {
      "name": "python3",
      "display_name": "Python 3"
    },
    "language_info": {
      "name": "python"
    }
  },
  "cells": [
    {
      "cell_type": "code",
      "execution_count": null,
      "metadata": {
        "colab": {
          "base_uri": "https://localhost:8080/"
        },
        "id": "K0Sp_F3aQVt7",
        "outputId": "6c4bed8d-f1f6-4098-d0c0-66965cc0cbfd"
      },
      "outputs": [
        {
          "output_type": "stream",
          "name": "stdout",
          "text": [
            "5\n"
          ]
        }
      ],
      "source": [
        "# 변수\n",
        "n = 5\n",
        "print(n)\n",
        "print(n)\n",
        "n = 10\n",
        "print(n)"
      ]
    },
    {
      "cell_type": "code",
      "source": [
        "n = 15\n",
        "print(n)\n",
        "print(type(n))\n",
        "\n",
        "m = int(20.5)   # <-- type casting\n",
        "print(m)\n",
        "print(type(m))"
      ],
      "metadata": {
        "colab": {
          "base_uri": "https://localhost:8080/"
        },
        "id": "VibePu7rR181",
        "outputId": "727e775f-de6b-4671-feb1-ba7c5e1c86b4"
      },
      "execution_count": null,
      "outputs": [
        {
          "output_type": "stream",
          "name": "stdout",
          "text": [
            "15\n",
            "<class 'int'>\n",
            "20\n",
            "<class 'int'>\n"
          ]
        }
      ]
    },
    {
      "cell_type": "code",
      "source": [
        "n = 15.5\n",
        "print(n)\n",
        "print(type(n))\n",
        "\n",
        "m = float(20)\n",
        "print(m)\n",
        "print(type(m))    # <-- float"
      ],
      "metadata": {
        "colab": {
          "base_uri": "https://localhost:8080/"
        },
        "id": "UOj6AJeFSojl",
        "outputId": "89edf1a3-53c8-402a-b11c-27d264423ea4"
      },
      "execution_count": null,
      "outputs": [
        {
          "output_type": "stream",
          "name": "stdout",
          "text": [
            "15.5\n",
            "<class 'float'>\n",
            "20.0\n",
            "<class 'float'>\n"
          ]
        }
      ]
    },
    {
      "cell_type": "code",
      "source": [
        "n = '15.5'\n",
        "print(n)\n",
        "print(type(n))\n",
        "\n",
        "\n",
        "m = str(20.5)\n",
        "print(m)\n",
        "print(type(m))"
      ],
      "metadata": {
        "colab": {
          "base_uri": "https://localhost:8080/"
        },
        "id": "bMkqrdc1TFLM",
        "outputId": "2ad6a44e-6489-4d6d-f127-18695552f47a"
      },
      "execution_count": null,
      "outputs": [
        {
          "output_type": "stream",
          "name": "stdout",
          "text": [
            "15.5\n",
            "<class 'str'>\n",
            "20.5\n",
            "<class 'str'>\n"
          ]
        }
      ]
    },
    {
      "cell_type": "code",
      "source": [
        "# bool (Boolean) : True / False, 1 / 0\n",
        "\n",
        "n = False\n",
        "print(n)\n",
        "print(type(n))\n",
        "\n",
        "m = bool(123)\n",
        "print(m)\n",
        "print(type(m))"
      ],
      "metadata": {
        "colab": {
          "base_uri": "https://localhost:8080/"
        },
        "id": "X3OgiSnsTeci",
        "outputId": "f0d39d83-de69-44ad-c177-6f5f31018f6b"
      },
      "execution_count": null,
      "outputs": [
        {
          "output_type": "stream",
          "name": "stdout",
          "text": [
            "False\n",
            "<class 'bool'>\n",
            "True\n",
            "<class 'bool'>\n"
          ]
        }
      ]
    },
    {
      "cell_type": "code",
      "source": [
        "# 사칙연산\n",
        "\n",
        "n = 3\n",
        "m = 7\n",
        "\n",
        "print(n+m)\n",
        "print(n-m)\n",
        "print(n*m)\n",
        "print(m/n)\n",
        "print(m%n)  # 7/3 "
      ],
      "metadata": {
        "colab": {
          "base_uri": "https://localhost:8080/"
        },
        "id": "h1WomhQwWOEQ",
        "outputId": "d98e189b-cdd4-4ac7-d7ca-fab4260bb4b3"
      },
      "execution_count": null,
      "outputs": [
        {
          "output_type": "stream",
          "name": "stdout",
          "text": [
            "10\n",
            "-4\n",
            "21\n",
            "2.3333333333333335\n",
            "1\n"
          ]
        }
      ]
    },
    {
      "cell_type": "code",
      "source": [
        "# List\n",
        "n = [1, 2, 2, 3, 4, 5]\n",
        "print(n)\n",
        "print(type(n))\n",
        "\n",
        "# method / 함수\n",
        "n.append(2)\n",
        "print(n)\n",
        "print(n.count(2))\n",
        "n.sort()\n",
        "print(n)\n",
        "n.clear()\n",
        "print(n)"
      ],
      "metadata": {
        "colab": {
          "base_uri": "https://localhost:8080/"
        },
        "id": "-jFdQhcGXESN",
        "outputId": "7cf5082e-8dc0-4a18-dd96-bc1b364a89ff"
      },
      "execution_count": null,
      "outputs": [
        {
          "output_type": "stream",
          "name": "stdout",
          "text": [
            "[1, 2, 2, 3, 4, 5]\n",
            "<class 'list'>\n",
            "[1, 2, 2, 3, 4, 5, 2]\n",
            "3\n",
            "[1, 2, 2, 2, 3, 4, 5]\n",
            "[]\n"
          ]
        }
      ]
    },
    {
      "cell_type": "code",
      "source": [
        "# tuple\n",
        "n = (10,20,30,20,40,50)\n",
        "print(n)\n",
        "print(type(n))\n",
        "\n",
        "n.index(20)\n",
        "n.index(20, 2)"
      ],
      "metadata": {
        "colab": {
          "base_uri": "https://localhost:8080/"
        },
        "id": "MerCCRiIXvIS",
        "outputId": "4b7406af-8711-4a78-a7c3-a0b3bf58fd5f"
      },
      "execution_count": null,
      "outputs": [
        {
          "output_type": "stream",
          "name": "stdout",
          "text": [
            "(10, 20, 30, 20, 40, 50)\n",
            "<class 'tuple'>\n"
          ]
        },
        {
          "output_type": "execute_result",
          "data": {
            "text/plain": [
              "3"
            ]
          },
          "metadata": {},
          "execution_count": 47
        }
      ]
    },
    {
      "cell_type": "code",
      "source": [
        "# Set\n",
        "n = {1,2,2,3,4,4,5}\n",
        "print(n)\n",
        "print(type(n))\n",
        "\n",
        "n.add(10)\n",
        "print(n)"
      ],
      "metadata": {
        "colab": {
          "base_uri": "https://localhost:8080/"
        },
        "id": "_b8k5LwYYAve",
        "outputId": "9fc91a4d-5858-4d35-fcff-6120d3260c4f"
      },
      "execution_count": null,
      "outputs": [
        {
          "output_type": "stream",
          "name": "stdout",
          "text": [
            "{1, 2, 3, 4, 5}\n",
            "<class 'set'>\n",
            "{1, 2, 3, 4, 5, 10}\n"
          ]
        }
      ]
    },
    {
      "cell_type": "code",
      "source": [
        "# Dictionary\n",
        "n = {'A':1,'B':2,'C':3,'D':4,'E':5}\n",
        "print(n)\n",
        "print(type(n))\n",
        "\n",
        "#print(n['X'])\n",
        "print(n.get('X'))\n",
        "print(n.keys())\n",
        "print(n.values())\n",
        "print(n.items())"
      ],
      "metadata": {
        "colab": {
          "base_uri": "https://localhost:8080/"
        },
        "id": "ARz1iVDzYMs6",
        "outputId": "753fb583-6f81-475c-90d4-6e0735dbebb1"
      },
      "execution_count": null,
      "outputs": [
        {
          "output_type": "stream",
          "name": "stdout",
          "text": [
            "{'A': 1, 'B': 2, 'C': 3, 'D': 4, 'E': 5}\n",
            "<class 'dict'>\n",
            "None\n",
            "dict_keys(['A', 'B', 'C', 'D', 'E'])\n",
            "dict_values([1, 2, 3, 4, 5])\n",
            "dict_items([('A', 1), ('B', 2), ('C', 3), ('D', 4), ('E', 5)])\n"
          ]
        }
      ]
    },
    {
      "cell_type": "code",
      "source": [
        "# list, tuple, set, dictionary --> iterable; iterate(순환)\n",
        "n = {'A':1,'B':2,'C':3,'D':4,'E':5}\n",
        "\n",
        "for i in n:\n",
        "  print(n[i])\n",
        "\n",
        "#for x in n:\n",
        "#  print(n[x])"
      ],
      "metadata": {
        "colab": {
          "base_uri": "https://localhost:8080/"
        },
        "id": "d9bSlmYlkLyp",
        "outputId": "ce2ca41e-07cf-436d-897f-3175c1495229"
      },
      "execution_count": null,
      "outputs": [
        {
          "output_type": "stream",
          "name": "stdout",
          "text": [
            "1\n",
            "2\n",
            "3\n",
            "4\n",
            "5\n"
          ]
        }
      ]
    }
  ]
}