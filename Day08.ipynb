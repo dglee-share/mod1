{
 "cells": [
  {
   "cell_type": "code",
   "execution_count": 4,
   "id": "d8908717",
   "metadata": {},
   "outputs": [],
   "source": [
    "def practice1(n,k):\n",
    "    r = 1;\n",
    "    for i in range(1, k+1):\n",
    "        r = r*(n+1-i)/i\n",
    "    return r\n",
    "\n",
    "assert practice1(52,5) == 2598960"
   ]
  },
  {
   "cell_type": "code",
   "execution_count": 6,
   "id": "b9262221",
   "metadata": {},
   "outputs": [],
   "source": [
    "import requests\n",
    "\n",
    "url = 'http://apis.data.go.kr/6260000/BusanBIMS/bitArrByArsno'\n",
    "skey = 'do5+utf2lYna4n/J/CnRLqhaoSVTq1Pm8n3Cd78SMWVoA/GunIy41I5s5w+mteCt3wVOqmX+b7VcDFWAPM3Etw=='\n",
    "params ={'serviceKey' : skey, 'arsno' : '05712' }\n",
    "\n",
    "response = requests.get(url, params=params)\n",
    "#print(response.content.decode('utf8'))"
   ]
  },
  {
   "cell_type": "code",
   "execution_count": 38,
   "id": "727766b6",
   "metadata": {},
   "outputs": [],
   "source": [
    "test_section = '''\n",
    "<nodenm>서면한전</nodenm>\n",
    "<bstopidx>64</bstopidx>\n",
    "<carno1>3659</carno1>\n",
    "<min1>3</min1>\n",
    "<station1>2</station1>\n",
    "<lowplate1>0</lowplate1>\n",
    "<seat1>-1</seat1>\n",
    "<carno2>3667</carno2>\n",
    "<min2>23</min2>\n",
    "<station2>13</station2>\n",
    "<lowplate2>0</lowplate2>\n",
    "'''\n",
    "\n",
    "test_section2='''\n",
    "<lineno>1002(심야)</lineno>\n",
    "<nodenm>서면한전</nodenm>\n",
    "<bstopidx>83</bstopidx>\n",
    "<gpsx>129.059286687867</gpsx>\n",
    "<gpsy>35.152413358569</gpsy>\n",
    "<bustype>심야버스(급행)</bustype>\n",
    "<lineid>5201002F00</lineid>\n",
    "</item>\n",
    "<item>\n",
    "'''\n",
    "\n",
    "def find_mins(substring):\n",
    "    ret_value1=0\n",
    "    ret_value2=0\n",
    "    m1 = substring.find('<min1>')\n",
    "    if m1==-1:\n",
    "        return (-1,-1)\n",
    "    m1+=len('<min1>')\n",
    "    m2 = substring.find('</min1>', m1)\n",
    "    ret_value1 = int(substring[m1:m2])\n",
    "    \n",
    "    m1 = substring.find('<min2>')\n",
    "    if m1==-1:\n",
    "        return (ret_value1, -1)\n",
    "    m1+=len('<min2>')\n",
    "    m2 = substring.find('</min2>', m1)\n",
    "    try:\n",
    "        ret_value2 = int(substring[m1:m2])\n",
    "    except:\n",
    "        ret_value2 = -1\n",
    "    \n",
    "    return (ret_value1, ret_value2)\n",
    "\n",
    "\n",
    "assert find_mins(test_section)==(3,23)\n",
    "assert find_mins(test_section2)==(-1,-1)"
   ]
  },
  {
   "cell_type": "code",
   "execution_count": 35,
   "id": "8e5d64ba",
   "metadata": {},
   "outputs": [
    {
     "name": "stdout",
     "output_type": "stream",
     "text": [
      "<class 'str'>\n",
      "[['1002(심야)', -1, -1], ['1004', -1, -1], ['1004(심야)', 12, 29], ['108', -1, -1], ['138', 7, 21], ['160', 4, 9], ['167', 4, 8], ['168', 5, 11], ['169-1', 10, -1], ['17', 3, 8], ['20', 5, 14], ['23', 3, 9], ['24', 2, 4], ['52', 3, 8], ['66', 1, 5], ['67', 15, 38], ['68', 9, 13], ['81', 3, 6], ['83', 1, 7], ['83-1', 1, 5], ['86', 24, -1], ['88(A)', 2, 16], ['99', 5, 26]]\n"
     ]
    }
   ],
   "source": [
    "raw_response = response.content.decode('utf8')\n",
    "print(type(raw_response))   # 'str'\n",
    "#print(raw_response)        # 구조확인.\n",
    "\n",
    "mark2 = 0\n",
    "lineno_list = []                        # 노선번호 추출\n",
    "while True:\n",
    "    mark1 = raw_response.find('<lineno>',mark2)\n",
    "    if mark1 == -1:\n",
    "        break;\n",
    "        \n",
    "    # <min1>, <min2> mark2~mark1 사이.\n",
    "    min1, min2 = find_mins(raw_response[mark2:mark1])   # 해당노선 도착시간 추출\n",
    "    \n",
    "    mark1+=len('<lineno>')\n",
    "    mark2 = raw_response.find('</lineno>', mark1)\n",
    "    lineno_list.append([raw_response[mark1:mark2], min1, min2])  # 정리, 리스화.\n",
    "    \n",
    "print(lineno_list)"
   ]
  },
  {
   "cell_type": "code",
   "execution_count": 12,
   "id": "caf144fd",
   "metadata": {},
   "outputs": [
    {
     "data": {
      "text/plain": [
       "-1"
      ]
     },
     "execution_count": 12,
     "metadata": {},
     "output_type": "execute_result"
    }
   ],
   "source": [
    "s1 = 'mystring_string'\n",
    "first_mark = s1.find('str')   # 2\n",
    "s1.find('str', first_mark+1)\n",
    "s1.find('your')"
   ]
  },
  {
   "cell_type": "code",
   "execution_count": 17,
   "id": "c9a2c1a3",
   "metadata": {},
   "outputs": [
    {
     "name": "stdout",
     "output_type": "stream",
     "text": [
      "in while\n"
     ]
    }
   ],
   "source": [
    "x = 1\n",
    "while True:\n",
    "    if x == -1:\n",
    "        break\n",
    "    print('in while')\n",
    "    x = -1"
   ]
  },
  {
   "cell_type": "code",
   "execution_count": 52,
   "id": "c65d8f09",
   "metadata": {},
   "outputs": [
    {
     "name": "stdout",
     "output_type": "stream",
     "text": [
      "<class 'str'>\n",
      "mystring {0}, value {1}\n",
      "mystring 150, value def\n"
     ]
    }
   ],
   "source": [
    "s1 = 'mystring'\n",
    "s2 = 'mystring {0}, value {1}'\n",
    "\n",
    "a = 'abc'\n",
    "b = 10\n",
    "\n",
    "print(type(s1))\n",
    "#s1.format\n",
    "print(s2)\n",
    "s2.format(a,b)\n",
    "\n",
    "#s3 = 'mystring {0}, value {1}'.format('def',150)   # :d, :f, :e\n",
    "s3 = 'mystring {1}, value {0}'.format('def',150)   # :d, :f, :e\n",
    "print(s3)"
   ]
  },
  {
   "cell_type": "code",
   "execution_count": 51,
   "id": "4a5d91a9",
   "metadata": {},
   "outputs": [
    {
     "name": "stdout",
     "output_type": "stream",
     "text": [
      "min1\n",
      "min2\n",
      "min3\n",
      "min4\n"
     ]
    }
   ],
   "source": [
    "for i in range(1,5):\n",
    "    print('min{0}'.format(i))"
   ]
  }
 ],
 "metadata": {
  "kernelspec": {
   "display_name": "Python 3 (ipykernel)",
   "language": "python",
   "name": "python3"
  },
  "language_info": {
   "codemirror_mode": {
    "name": "ipython",
    "version": 3
   },
   "file_extension": ".py",
   "mimetype": "text/x-python",
   "name": "python",
   "nbconvert_exporter": "python",
   "pygments_lexer": "ipython3",
   "version": "3.10.5"
  }
 },
 "nbformat": 4,
 "nbformat_minor": 5
}
