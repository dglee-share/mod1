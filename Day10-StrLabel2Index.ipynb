{
 "cells": [
  {
   "cell_type": "code",
   "execution_count": 13,
   "id": "5d775f61",
   "metadata": {},
   "outputs": [
    {
     "name": "stdout",
     "output_type": "stream",
     "text": [
      "{'abc', 'def'}\n",
      "['abc', 'def']\n",
      "[0, 1, 0, 1]\n"
     ]
    }
   ],
   "source": [
    "list1= ['abc','def','abc','def']\n",
    "\n",
    "set1 = set(list1)\n",
    "print(set1)\n",
    "\n",
    "unique_list1 = list(set1)\n",
    "print(unique_list1)\n",
    "\n",
    "list1_by_index=[]\n",
    "for i in list1:\n",
    "    x = unique_list1.index(i)\n",
    "    list1_by_index.append(x)\n",
    "print(list1_by_index)"
   ]
  }
 ],
 "metadata": {
  "kernelspec": {
   "display_name": "Python 3 (ipykernel)",
   "language": "python",
   "name": "python3"
  },
  "language_info": {
   "codemirror_mode": {
    "name": "ipython",
    "version": 3
   },
   "file_extension": ".py",
   "mimetype": "text/x-python",
   "name": "python",
   "nbconvert_exporter": "python",
   "pygments_lexer": "ipython3",
   "version": "3.10.5"
  }
 },
 "nbformat": 4,
 "nbformat_minor": 5
}
