{
 "cells": [
  {
   "cell_type": "code",
   "execution_count": 11,
   "id": "b6b7c623",
   "metadata": {},
   "outputs": [
    {
     "name": "stdout",
     "output_type": "stream",
     "text": [
      "14\n",
      "14\n",
      "36\n",
      "36\n"
     ]
    }
   ],
   "source": [
    "list1 = [1,2,3]\n",
    "sum(list1)\n",
    "\n",
    "def sq_sum(src):\n",
    "    ret=0\n",
    "    for e in src:\n",
    "        ret = ret + e*e\n",
    "    return ret\n",
    "\n",
    "assert sq_sum([1,2,3])==14\n",
    "\n",
    "def t_sum(src):\n",
    "    ret=0\n",
    "    for e in src:\n",
    "        ret = ret + e*e*e\n",
    "    return ret\n",
    "\n",
    "def fn_sum(src, fn):\n",
    "    ret=0\n",
    "    for e in src:\n",
    "        ret = ret + fn(e)\n",
    "    return ret\n",
    "\n",
    "def sq(n):\n",
    "    return n**2\n",
    "\n",
    "def t(n):\n",
    "    return n**3\n",
    "\n",
    "r = fn_sum([1,2,3], sq)\n",
    "print(r)\n",
    "r = fn_sum([1,2,3], lambda n: n**2)\n",
    "print(r)\n",
    "r = fn_sum([1,2,3], t)  # 1 + 8 + 27\n",
    "print(r)\n",
    "r = fn_sum([1,2,3], lambda x: x**3)\n",
    "print(r)"
   ]
  },
  {
   "cell_type": "code",
   "execution_count": 18,
   "id": "5fb3fb91",
   "metadata": {},
   "outputs": [
    {
     "data": {
      "text/plain": [
       "93"
      ]
     },
     "execution_count": 18,
     "metadata": {},
     "output_type": "execute_result"
    }
   ],
   "source": [
    "import random as r\n",
    "\n",
    "r.randrange(1, 100)"
   ]
  },
  {
   "cell_type": "code",
   "execution_count": 20,
   "id": "4f61e579",
   "metadata": {},
   "outputs": [
    {
     "name": "stdout",
     "output_type": "stream",
     "text": [
      "[36, 44, 35, 78, 1, 10, 90, 18, 73, 35]\n"
     ]
    }
   ],
   "source": [
    "from random import randrange\n",
    "\n",
    "rand_list = [ randrange(1,100) for _ in range(10)]\n",
    "print(rand_list)"
   ]
  },
  {
   "cell_type": "code",
   "execution_count": 27,
   "id": "3e7457fb",
   "metadata": {},
   "outputs": [],
   "source": [
    "'''\n",
    "def de_list(src):\n",
    "    avg = sum(src)/len(src)\n",
    "    return_list = []\n",
    "    for i in src:\n",
    "        return_list.append(i-avg)\n",
    "    return return_list\n",
    "'''\n",
    "def de_list(src):\n",
    "    avg = sum(src)/len(src)\n",
    "    return [i-avg for i in src]\n",
    "\n",
    "assert de_list([1,2,3])==[-1.0, 0.0, 1.0]\n",
    "#de_list(rand_list)"
   ]
  },
  {
   "cell_type": "code",
   "execution_count": 28,
   "id": "e3b695c0",
   "metadata": {},
   "outputs": [
    {
     "name": "stdout",
     "output_type": "stream",
     "text": [
      "[36, 44, 35, 78, 1, 10, 90, 18, 73, 35]\n"
     ]
    },
    {
     "data": {
      "text/plain": [
       "[-6.0, 2.0, -7.0, 36.0, -41.0, -32.0, 48.0, -24.0, 31.0, -7.0]"
      ]
     },
     "execution_count": 28,
     "metadata": {},
     "output_type": "execute_result"
    }
   ],
   "source": [
    "print(rand_list)\n",
    "de_list(rand_list)"
   ]
  },
  {
   "cell_type": "code",
   "execution_count": 41,
   "id": "971f2f36",
   "metadata": {
    "scrolled": true
   },
   "outputs": [
    {
     "name": "stdout",
     "output_type": "stream",
     "text": [
      "7\n",
      "prime\n"
     ]
    }
   ],
   "source": [
    "n = 7\n",
    "print(n)\n",
    "\n",
    "flag = 0\n",
    "for i in range(2,n):\n",
    "    if n%i==0:\n",
    "        print('not prime')\n",
    "        flag = 1\n",
    "        break\n",
    "    \n",
    "if flag==0:\n",
    "    print('prime')"
   ]
  },
  {
   "cell_type": "code",
   "execution_count": 54,
   "id": "301af3d5",
   "metadata": {},
   "outputs": [
    {
     "name": "stdout",
     "output_type": "stream",
     "text": [
      "[41, 56, 62, 60, 67, 68, 83, 81, 72, 63, 46, 47, 35, 56, 43, 58, 70, 79, 79, 78, 66, 58, 60, 41, 42, 45, 55, 58, 59, 71, 78, 72, 70, 54, 48, 47, 42, 43, 53, 50, 61, 74, 76, 67, 61, 55, 52, 48, 41, 62, 60, 59, 69, 80, 85, 86, 75, 68, 61, 50, 53, 54, 54, 69, 67, 80, 83, 79, 74, 62, 73, 58, 49, 48, 61, 66, 64, 80, 85, 72, 80, 73, 61, 54, 46, 45, 53, 64, 63, 70, 82, 74, 69, 68, 49, 40, 45, 42, 63, 62, 73, 75, 78, 75, 76, 62, 57, 49, 39, 50, 54, 60, 58, 74, 85, 78, 82, 67, 58, 50, 56, 55, 57, 53, 73, 73, 87, 82, 74, 58, 52, 43]\n",
      "132\n"
     ]
    }
   ],
   "source": [
    "with open('종관기상_지점별_연·월_통계_20220725205202.csv', 'r') as f:\n",
    "    raw = f.readlines()\n",
    "\n",
    "#rint(raw)\n",
    "#rint(len(raw))\n",
    "data_line = raw[2]\n",
    "data_list = data_line[:-1].split(',')\n",
    "data_list = data_list[1:]\n",
    "#print(data_list)\n",
    "\n",
    "data_list = [int(h) for h in data_list]\n",
    "print(data_list)\n",
    "print(len(data_list))   # 132\n",
    "                               # 0에서 132까지 12씩 올라가는 숫자.\n",
    "#data_list[0:12]\n",
    "#data_list[12:24]\n",
    "data_list[24:36]"
   ]
  },
  {
   "cell_type": "code",
   "execution_count": 60,
   "id": "d54774a1",
   "metadata": {},
   "outputs": [
    {
     "name": "stdout",
     "output_type": "stream",
     "text": [
      "[[41, 56, 62, 60, 67, 68, 83, 81, 72, 63, 46, 47], [35, 56, 43, 58, 70, 79, 79, 78, 66, 58, 60, 41], [42, 45, 55, 58, 59, 71, 78, 72, 70, 54, 48, 47], [42, 43, 53, 50, 61, 74, 76, 67, 61, 55, 52, 48], [41, 62, 60, 59, 69, 80, 85, 86, 75, 68, 61, 50], [53, 54, 54, 69, 67, 80, 83, 79, 74, 62, 73, 58], [49, 48, 61, 66, 64, 80, 85, 72, 80, 73, 61, 54], [46, 45, 53, 64, 63, 70, 82, 74, 69, 68, 49, 40], [45, 42, 63, 62, 73, 75, 78, 75, 76, 62, 57, 49], [39, 50, 54, 60, 58, 74, 85, 78, 82, 67, 58, 50], [56, 55, 57, 53, 73, 73, 87, 82, 74, 58, 52, 43]]\n"
     ]
    }
   ],
   "source": [
    "data12 = []\n",
    "for i in range(0, 132, 12):\n",
    "    data12.append(data_list[i: i+12])\n",
    "print(data12)"
   ]
  }
 ],
 "metadata": {
  "kernelspec": {
   "display_name": "Python 3 (ipykernel)",
   "language": "python",
   "name": "python3"
  },
  "language_info": {
   "codemirror_mode": {
    "name": "ipython",
    "version": 3
   },
   "file_extension": ".py",
   "mimetype": "text/x-python",
   "name": "python",
   "nbconvert_exporter": "python",
   "pygments_lexer": "ipython3",
   "version": "3.10.5"
  }
 },
 "nbformat": 4,
 "nbformat_minor": 5
}
