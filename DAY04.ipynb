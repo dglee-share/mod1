{
 "cells": [
  {
   "cell_type": "code",
   "execution_count": 1,
   "id": "fb095a70",
   "metadata": {},
   "outputs": [
    {
     "name": "stdout",
     "output_type": "stream",
     "text": [
      "transportation: 20.0\n"
     ]
    }
   ],
   "source": [
    "class transportation:\n",
    "    def __init__(self, x):         # constructor\n",
    "        self.speed=x         # property\n",
    "    \n",
    "    def get_speed(self):        # method\n",
    "        return self.speed\n",
    "\n",
    "    def set_speed(self, sp):\n",
    "        self.speed = sp\n",
    "        \n",
    "    def __str__(self):\n",
    "        return 'transportation: ' + str(self.speed)\n",
    "        \n",
    "x = transportation(20.0)\n",
    "x.get_speed()\n",
    "#x.set_speed(15.0)\n",
    "#x.get_speed()\n",
    "print(x)"
   ]
  },
  {
   "cell_type": "code",
   "execution_count": 7,
   "id": "62cfc079",
   "metadata": {},
   "outputs": [
    {
     "name": "stdout",
     "output_type": "stream",
     "text": [
      "5\n"
     ]
    },
    {
     "data": {
      "text/plain": [
       "100.0"
      ]
     },
     "execution_count": 7,
     "metadata": {},
     "output_type": "execute_result"
    }
   ],
   "source": [
    "class car(transportation):\n",
    "    def __init__(self):         # constructor\n",
    "        super().__init__(100.0)\n",
    "        self.n_doors=5         # property\n",
    "    \n",
    "    def get_ndoors(self):        # method\n",
    "        return self.n_doors\n",
    "\n",
    "    def set_ndoors(self, sp):\n",
    "        self.n_doors = sp\n",
    "        \n",
    "    def __str__(self):\n",
    "        return 'car: ' + str(self.n_doors)\n",
    "\n",
    "c = car()\n",
    "print(c.get_ndoors())   #5\n",
    "c.get_speed()"
   ]
  },
  {
   "cell_type": "code",
   "execution_count": 12,
   "id": "26e71dab",
   "metadata": {},
   "outputs": [
    {
     "name": "stdout",
     "output_type": "stream",
     "text": [
      "[1, 2, 2, 4, 4, 4, 4, 5, 5, 5, 5, 5]\n",
      "<class 'list'>\n"
     ]
    }
   ],
   "source": [
    "list1 = [1,2,2,3,3,3,4,4,4,4,5,5,5,5,5]\n",
    "\n",
    "while 3 in list1:\n",
    "    list1.remove(3)\n",
    "\n",
    "print(list1)\n",
    "print(type(list1))"
   ]
  },
  {
   "cell_type": "code",
   "execution_count": 22,
   "id": "c4e2b852",
   "metadata": {},
   "outputs": [
    {
     "name": "stdout",
     "output_type": "stream",
     "text": [
      "[1, 2, 2, 3, 3, 3, 5, 5, 5, 5, 5]\n",
      "<class '__main__.mylist'>\n"
     ]
    }
   ],
   "source": [
    "class mylist(list):\n",
    "    def remove_all(self, target):\n",
    "        while target in self:\n",
    "            self.remove(target)\n",
    "\n",
    "list2 = mylist([1,2,2,3,3,3,4,4,4,4,5,5,5,5,5])\n",
    "list2.remove_all(4)\n",
    "\n",
    "print(list2)\n",
    "print(type(list2))"
   ]
  },
  {
   "cell_type": "code",
   "execution_count": 26,
   "id": "51fc99cb",
   "metadata": {},
   "outputs": [],
   "source": [
    "list2 = [1,2,3,4]\n",
    "assert sum(list2) == 10"
   ]
  },
  {
   "cell_type": "code",
   "execution_count": 35,
   "id": "4d7f6ee4",
   "metadata": {},
   "outputs": [
    {
     "name": "stdout",
     "output_type": "stream",
     "text": [
      "done.\n",
      "123\n"
     ]
    }
   ],
   "source": [
    "try:\n",
    "    n = int('123')\n",
    "except:\n",
    "    print('error')\n",
    "    n = 0\n",
    "finally:\n",
    "    print('done.')\n",
    "\n",
    "print(n)"
   ]
  }
 ],
 "metadata": {
  "kernelspec": {
   "display_name": "Python 3 (ipykernel)",
   "language": "python",
   "name": "python3"
  },
  "language_info": {
   "codemirror_mode": {
    "name": "ipython",
    "version": 3
   },
   "file_extension": ".py",
   "mimetype": "text/x-python",
   "name": "python",
   "nbconvert_exporter": "python",
   "pygments_lexer": "ipython3",
   "version": "3.10.5"
  }
 },
 "nbformat": 4,
 "nbformat_minor": 5
}
