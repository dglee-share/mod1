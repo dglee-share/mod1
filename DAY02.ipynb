{
  "nbformat": 4,
  "nbformat_minor": 0,
  "metadata": {
    "colab": {
      "name": "DAY02.ipynb",
      "provenance": [],
      "collapsed_sections": []
    },
    "kernelspec": {
      "name": "python3",
      "display_name": "Python 3"
    },
    "language_info": {
      "name": "python"
    }
  },
  "cells": [
    {
      "cell_type": "code",
      "execution_count": null,
      "metadata": {
        "colab": {
          "base_uri": "https://localhost:8080/"
        },
        "id": "z8CAKdmYZZIe",
        "outputId": "00547375-9e57-4ceb-9217-6ace44102e32"
      },
      "outputs": [
        {
          "output_type": "stream",
          "name": "stdout",
          "text": [
            "False\n",
            "False\n",
            "True\n",
            "True\n"
          ]
        }
      ],
      "source": [
        "n = 3\n",
        "m = 5\n",
        "\n",
        "print(n==m)     \n",
        "print(n>m)\n",
        "print(n<=m)\n",
        "print(n!=m)"
      ]
    },
    {
      "cell_type": "code",
      "source": [
        "if n==m:\n",
        "  print(\"두 값이 같습니다.\")\n",
        "else:\n",
        "  print(\"두 값이 다릅니다.\")\n",
        "\n",
        "if n<=m:\n",
        "  print(\"n이 m보다 작거나 같습니다.\")\n",
        "elif n%3==0:\n",
        "  print(\"n은 3의 배수입니다.\")\n",
        "else:\n",
        "  print(\"마지막 else.\")"
      ],
      "metadata": {
        "colab": {
          "base_uri": "https://localhost:8080/"
        },
        "id": "aLkrArNcaLrg",
        "outputId": "4c15898a-a1cd-4d58-f741-902107dcc04d"
      },
      "execution_count": null,
      "outputs": [
        {
          "output_type": "stream",
          "name": "stdout",
          "text": [
            "두 값이 다릅니다.\n",
            "n은 3의 배수입니다.\n"
          ]
        }
      ]
    },
    {
      "cell_type": "code",
      "source": [
        "x = [1,2,3]\n",
        "\n",
        "if 3 in x:\n",
        "  print(\"리스트에 3이 있습니다.\")\n",
        "\n",
        "if 5 not in [3,2,1]:\n",
        "  print(\"리스트에 5가 없습니다.\")"
      ],
      "metadata": {
        "colab": {
          "base_uri": "https://localhost:8080/"
        },
        "id": "-RBp3l4dbl8u",
        "outputId": "9ab8d71a-52fa-4c1f-ff90-ef0cbbd751b9"
      },
      "execution_count": null,
      "outputs": [
        {
          "output_type": "stream",
          "name": "stdout",
          "text": [
            "리스트에 3이 있습니다.\n",
            "리스트에 5가 없습니다.\n"
          ]
        }
      ]
    },
    {
      "cell_type": "code",
      "source": [
        "n = 3\n",
        "y = {1,2,3}\n",
        "\n",
        "while n>0:\n",
        "  print(n)\n",
        "  n=n-1\n",
        "\n",
        "while 3 in y:\n",
        "  print('3이 세트 y에 있습니다.')\n",
        "  y.remove(3)"
      ],
      "metadata": {
        "colab": {
          "base_uri": "https://localhost:8080/"
        },
        "id": "2jZCpDr4cO_R",
        "outputId": "94a50ede-b2b4-4a15-9098-252ac8e42590"
      },
      "execution_count": null,
      "outputs": [
        {
          "output_type": "stream",
          "name": "stdout",
          "text": [
            "3\n",
            "2\n",
            "1\n",
            "3이 세트 y에 있습니다.\n"
          ]
        }
      ]
    },
    {
      "cell_type": "code",
      "source": [
        "x = [1,2,3,4,5]\n",
        "z = []\n",
        "\n",
        "for n in x:\n",
        "  z.append(n**2)\n",
        "\n",
        "print(z)"
      ],
      "metadata": {
        "colab": {
          "base_uri": "https://localhost:8080/"
        },
        "id": "kF4oWBD2dVA3",
        "outputId": "d59e61d6-0a24-43de-abd0-1548afe3b764"
      },
      "execution_count": null,
      "outputs": [
        {
          "output_type": "stream",
          "name": "stdout",
          "text": [
            "[1, 4, 9, 16, 25]\n"
          ]
        }
      ]
    },
    {
      "cell_type": "code",
      "source": [
        "x = [3,5]\n",
        "z = []\n",
        "\n",
        "for n in x:\n",
        "  z.append(n**2)\n",
        "\n",
        "print(z)"
      ],
      "metadata": {
        "colab": {
          "base_uri": "https://localhost:8080/"
        },
        "id": "fK-lQF8IeY5y",
        "outputId": "0d5dd7ca-257e-460f-8537-a83f98ae3f62"
      },
      "execution_count": null,
      "outputs": [
        {
          "output_type": "stream",
          "name": "stdout",
          "text": [
            "[9, 25]\n"
          ]
        }
      ]
    },
    {
      "cell_type": "code",
      "source": [
        "x = [1,2,3,4,5]\n",
        "z = [a**2 for a in x]\n",
        "\n",
        "print(z)"
      ],
      "metadata": {
        "colab": {
          "base_uri": "https://localhost:8080/"
        },
        "id": "wZ_ZEg5YhT0x",
        "outputId": "b1b70e0b-3e51-437e-dc0a-5d0aebd4d0e6"
      },
      "execution_count": null,
      "outputs": [
        {
          "output_type": "stream",
          "name": "stdout",
          "text": [
            "[1, 4, 9, 16, 25]\n"
          ]
        }
      ]
    }
  ]
}