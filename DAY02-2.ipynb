{
 "cells": [
  {
   "cell_type": "code",
   "execution_count": 1,
   "id": "ab221407",
   "metadata": {},
   "outputs": [
    {
     "name": "stdout",
     "output_type": "stream",
     "text": [
      "[1, 4, 9, 16, 25]\n"
     ]
    }
   ],
   "source": [
    "x = [1,2,3,4,5]\n",
    "z = [a**2 for a in x]\n",
    "\n",
    "print(z)"
   ]
  },
  {
   "cell_type": "code",
   "execution_count": 2,
   "id": "5b3cb623",
   "metadata": {},
   "outputs": [
    {
     "name": "stdout",
     "output_type": "stream",
     "text": [
      "[1, 4, 9, 16, 25]\n"
     ]
    }
   ],
   "source": [
    "x = [1,2,3,4,5]\n",
    "z = []\n",
    "\n",
    "for n in x:\n",
    "  z.append(n**2)\n",
    "\n",
    "print(z)"
   ]
  },
  {
   "cell_type": "code",
   "execution_count": 3,
   "id": "5b017095",
   "metadata": {},
   "outputs": [
    {
     "name": "stdout",
     "output_type": "stream",
     "text": [
      "range(0, 10)\n",
      "[0, 1, 2, 3, 4, 5, 6, 7, 8, 9]\n"
     ]
    }
   ],
   "source": [
    "x = range(10)    # generator\n",
    "print(x)\n",
    "\n",
    "new_list = []\n",
    "\n",
    "for n in range(10):\n",
    "    new_list.append(n)\n",
    "    \n",
    "print(new_list)"
   ]
  },
  {
   "cell_type": "code",
   "execution_count": 4,
   "id": "ebb4eba0",
   "metadata": {},
   "outputs": [
    {
     "name": "stdout",
     "output_type": "stream",
     "text": [
      "[0, 1, 2, 3, 4, 5, 6, 7, 8, 9]\n"
     ]
    }
   ],
   "source": [
    "new_list2=[n for n in range(10)]    # start: 0, stop 10\n",
    "print(new_list2)"
   ]
  },
  {
   "cell_type": "code",
   "execution_count": 5,
   "id": "16de476f",
   "metadata": {},
   "outputs": [
    {
     "name": "stdout",
     "output_type": "stream",
     "text": [
      "[5, 6, 7, 8, 9]\n"
     ]
    }
   ],
   "source": [
    "new_list3 = [n for n in range(5,10)] # start:5, stop 10\n",
    "print(new_list3)"
   ]
  },
  {
   "cell_type": "code",
   "execution_count": 6,
   "id": "b44e13e7",
   "metadata": {},
   "outputs": [
    {
     "name": "stdout",
     "output_type": "stream",
     "text": [
      "[5, 7, 9]\n"
     ]
    }
   ],
   "source": [
    "new_list4 = [n for n in range(5,10,2)]  # start:5, stop 10, step 2 \n",
    "print(new_list4)"
   ]
  },
  {
   "cell_type": "code",
   "execution_count": 7,
   "id": "26fb6a07",
   "metadata": {},
   "outputs": [
    {
     "name": "stdout",
     "output_type": "stream",
     "text": [
      "3\n",
      "5\n",
      "6\n",
      "9\n",
      "sum: 23\n"
     ]
    }
   ],
   "source": [
    "######### euler #1 - ver1\n",
    "sum_ = 0;\n",
    "for n in range(1,10):\n",
    "  if n%3==0 or n%5==0:\n",
    "    print(n)\n",
    "    sum_ = sum_ + n\n",
    "\n",
    "print('sum:',sum_)"
   ]
  },
  {
   "cell_type": "code",
   "execution_count": 8,
   "id": "9919de0d",
   "metadata": {},
   "outputs": [
    {
     "name": "stdout",
     "output_type": "stream",
     "text": [
      "233168\n"
     ]
    }
   ],
   "source": [
    "######### euler #1 - ver2\n",
    "numbers = []\n",
    "for n in range(1,1000):\n",
    "  if n%3==0 or n%5==0:\n",
    "    numbers.append(n)\n",
    "\n",
    "#print(numbers)\n",
    "number_set = set(numbers)\n",
    "#print(type(number_set))\n",
    "print(sum(number_set))"
   ]
  },
  {
   "cell_type": "code",
   "execution_count": 20,
   "id": "6d885a73",
   "metadata": {},
   "outputs": [
    {
     "name": "stdout",
     "output_type": "stream",
     "text": [
      "233168\n"
     ]
    }
   ],
   "source": [
    "#[1,2,3] + [4,5,6]\n",
    "#[1,2,3,4,5,6]\n",
    "\n",
    "list_3 = [n for n in range(3, 1000, 3)]\n",
    "list_5 = [n for n in range(5, 1000, 5)]\n",
    "set_x = set(list_3 + list_5)\n",
    "#print(set_x)\n",
    "print(sum(set_x))"
   ]
  },
  {
   "cell_type": "code",
   "execution_count": 12,
   "id": "022bb7dc",
   "metadata": {},
   "outputs": [
    {
     "name": "stdout",
     "output_type": "stream",
     "text": [
      "sum: 6\n",
      "len: 3\n"
     ]
    }
   ],
   "source": [
    "print('sum:',sum({1,2,3}))\n",
    "print('len:',len({4,5,6}))"
   ]
  },
  {
   "cell_type": "code",
   "execution_count": 21,
   "id": "f3a998a8",
   "metadata": {},
   "outputs": [
    {
     "name": "stdout",
     "output_type": "stream",
     "text": [
      "[10, 11, 12, 13, 14, 15, 16, 17, 18, 19]\n",
      "[11, 13, 15, 17]\n",
      "[11, 12, 13, 14, 15, 16]\n"
     ]
    }
   ],
   "source": [
    "list1 = [n for n in range(10, 20)]\n",
    "print(list1)\n",
    "print(list1[1:8:2])\n",
    "print(list1[1:-3])"
   ]
  },
  {
   "cell_type": "code",
   "execution_count": 25,
   "id": "f8e227b3",
   "metadata": {},
   "outputs": [
    {
     "name": "stdout",
     "output_type": "stream",
     "text": [
      "338350\n",
      "25502500\n"
     ]
    }
   ],
   "source": [
    "########### euler #6\n",
    "list1 = [n**2 for n in range(1,101)]\n",
    "list2 = [n for n in range(1,101)]\n",
    "\n",
    "sum1 = sum(list1)\n",
    "sum2 = sum(list2)**2\n",
    "\n",
    "print(sum1)\n",
    "print(sum2)"
   ]
  },
  {
   "cell_type": "code",
   "execution_count": 69,
   "id": "d7e8bc02",
   "metadata": {},
   "outputs": [
    {
     "name": "stdout",
     "output_type": "stream",
     "text": [
      "[55, 22, 71, 86, 90, 29, 52, 92, 95, 38]\n",
      "v2: [97, 6, 77, 3, 94, 12, 88, 95, 61, 70]\n"
     ]
    }
   ],
   "source": [
    "####### random number\n",
    "import random\n",
    "\n",
    "random.randrange(1,100)\n",
    "\n",
    "rand_ten=[]\n",
    "\n",
    "for _ in range(10):\n",
    "    rand_ten.append(random.randrange(1,100))\n",
    "    \n",
    "print(rand_ten)\n",
    "\n",
    "rand_ten2=[random.randrange(1,100) for _ in range(10)]\n",
    "print('v2:',rand_ten2)"
   ]
  },
  {
   "cell_type": "code",
   "execution_count": 83,
   "id": "dc055c4d",
   "metadata": {},
   "outputs": [
    {
     "data": {
      "text/plain": [
       "14"
      ]
     },
     "execution_count": 83,
     "metadata": {},
     "output_type": "execute_result"
    }
   ],
   "source": [
    "########## 함수\n",
    "\n",
    "def myfunc():\n",
    "    print('my function')\n",
    "    \n",
    "#myfunc()\n",
    "\n",
    "def myfunc2(n=1):\n",
    "    return n**2;\n",
    "\n",
    "#myfunc2(5)\n",
    "\n",
    "# 입력: python 리스트\n",
    "# 출력(return, 반환값): 각 element 제곱의 합\n",
    "def sum_of_squares(n):\n",
    "    return sum([a**2 for a in n])\n",
    "\n",
    "sum_of_squares([1,2,3])"
   ]
  }
 ],
 "metadata": {
  "kernelspec": {
   "display_name": "Python 3 (ipykernel)",
   "language": "python",
   "name": "python3"
  },
  "language_info": {
   "codemirror_mode": {
    "name": "ipython",
    "version": 3
   },
   "file_extension": ".py",
   "mimetype": "text/x-python",
   "name": "python",
   "nbconvert_exporter": "python",
   "pygments_lexer": "ipython3",
   "version": "3.10.5"
  }
 },
 "nbformat": 4,
 "nbformat_minor": 5
}
