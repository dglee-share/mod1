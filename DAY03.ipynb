{
 "cells": [
  {
   "cell_type": "code",
   "execution_count": 1,
   "id": "79390791",
   "metadata": {},
   "outputs": [
    {
     "name": "stdout",
     "output_type": "stream",
     "text": [
      "my message\n",
      "another message\n"
     ]
    }
   ],
   "source": [
    "str1 = 'my message'\n",
    "str2 = \"another message\"\n",
    "\n",
    "print(str1)\n",
    "print(str2)"
   ]
  },
  {
   "cell_type": "code",
   "execution_count": 6,
   "id": "ea6381e7",
   "metadata": {},
   "outputs": [
    {
     "name": "stdout",
     "output_type": "stream",
     "text": [
      "<class 'str'>\n",
      "My message\n",
      "10\n"
     ]
    },
    {
     "data": {
      "text/plain": [
       "3"
      ]
     },
     "execution_count": 6,
     "metadata": {},
     "output_type": "execute_result"
    }
   ],
   "source": [
    "print(type(str1))\n",
    "print(str1.capitalize())\n",
    "\n",
    "# sum([1,2,3])\n",
    "# len([1,2,3])\n",
    "\n",
    "print(len(str1))"
   ]
  },
  {
   "cell_type": "code",
   "execution_count": 10,
   "id": "359cf23f",
   "metadata": {},
   "outputs": [
    {
     "name": "stdout",
     "output_type": "stream",
     "text": [
      "53\n",
      "15\n",
      "* my message _ \n",
      "14\n",
      " my message _ \n"
     ]
    }
   ],
   "source": [
    "str1 = '                                      * my message _ '\n",
    "\n",
    "print(len(str1))\n",
    "\n",
    "str1_lstripped = str1.lstrip()\n",
    "print(len(str1_lstripped))\n",
    "print(str1_lstripped)\n",
    "\n",
    "str1_lstripped2 = str1_lstripped.lstrip('*')\n",
    "print(len(str1_lstripped2))\n",
    "print(str1_lstripped2)"
   ]
  },
  {
   "cell_type": "code",
   "execution_count": 12,
   "id": "68b25672",
   "metadata": {},
   "outputs": [
    {
     "name": "stdout",
     "output_type": "stream",
     "text": [
      "67\n",
      "12\n",
      " my message \n"
     ]
    }
   ],
   "source": [
    "str1 = '                                      * my message _________       '\n",
    "\n",
    "print(len(str1))\n",
    "\n",
    "str1_lstripped = str1.lstrip().lstrip('*').rstrip().rstrip('_')\n",
    "print(len(str1_lstripped))\n",
    "print(str1_lstripped)"
   ]
  },
  {
   "cell_type": "code",
   "execution_count": 19,
   "id": "2be78424",
   "metadata": {},
   "outputs": [
    {
     "name": "stdout",
     "output_type": "stream",
     "text": [
      "m\n",
      "1\n",
      "mess\n"
     ]
    }
   ],
   "source": [
    "str1 = 'my message'   # 문자'열'\n",
    "\n",
    "print(str1[3])\n",
    "print(str1.count('a'))\n",
    "\n",
    "print(str1[3:7])"
   ]
  },
  {
   "cell_type": "code",
   "execution_count": 23,
   "id": "86118b3d",
   "metadata": {},
   "outputs": [
    {
     "name": "stdout",
     "output_type": "stream",
     "text": [
      "<class 'list'>\n",
      "['m', 'y', ' ', 'm', 'e', 's', 's', 'a', 'g', 'e']\n",
      "my message\n"
     ]
    }
   ],
   "source": [
    "str1 = 'my message'\n",
    "\n",
    "# list1 = [1,2,3]\n",
    "# print(type(list1))\n",
    "\n",
    "# n = int(10.5)\n",
    "\n",
    "x = list(str1)\n",
    "print(type(x))\n",
    "print(x)\n",
    "\n",
    "x_joined = ''.join(x)\n",
    "print(x_joined)"
   ]
  },
  {
   "cell_type": "code",
   "execution_count": 27,
   "id": "e1867e4a",
   "metadata": {},
   "outputs": [
    {
     "name": "stdout",
     "output_type": "stream",
     "text": [
      "['my', 'message']\n",
      "['my mess', 'ge']\n",
      "['abc', '*def*ghi', 'jkl']\n",
      "['abc#', 'def', 'ghi#jkl']\n"
     ]
    }
   ],
   "source": [
    "str1 = 'my message'\n",
    "\n",
    "x = str1.split()\n",
    "print(x)\n",
    "\n",
    "x = str1.split('a')\n",
    "print(x)\n",
    "\n",
    "str1 = 'abc#*def*ghi#jkl'\n",
    "\n",
    "print(str1.split('#'))\n",
    "print(str1.split('*'))"
   ]
  },
  {
   "cell_type": "code",
   "execution_count": 35,
   "id": "690da84e",
   "metadata": {},
   "outputs": [
    {
     "name": "stdout",
     "output_type": "stream",
     "text": [
      "same\n"
     ]
    }
   ],
   "source": [
    "str1 = 'abc'\n",
    "str2 = '  __ abc  **  '\n",
    "\n",
    "\n",
    "if str1.strip() == str2.strip(' _*'):\n",
    "    print('same')\n",
    "else:\n",
    "    print('diff')"
   ]
  },
  {
   "cell_type": "code",
   "execution_count": 41,
   "id": "d20f8e56",
   "metadata": {},
   "outputs": [
    {
     "name": "stdout",
     "output_type": "stream",
     "text": [
      "not palindrome\n"
     ]
    }
   ],
   "source": [
    "str1 = 'string'\n",
    "\n",
    "# 1. 알파벳 단위 리스트로 쪼개기\n",
    "s1 = list(str1)\n",
    "\n",
    "# 2. 리스트 순서 reverse --> method 참조.\n",
    "s1.reverse()\n",
    "\n",
    "# 3. 뒤집은 리스트를 문자열로 합치기\n",
    "s1_str = ''.join(s1)\n",
    "\n",
    "# 4. 합친 문자열이 str1과 같으면... palindrome.\n",
    "if str1 == s1_str:\n",
    "    print('palindrome')\n",
    "else:\n",
    "    print('not palindrome')\n"
   ]
  },
  {
   "cell_type": "code",
   "execution_count": 45,
   "id": "bd842131",
   "metadata": {},
   "outputs": [
    {
     "name": "stdout",
     "output_type": "stream",
     "text": [
      "True\n",
      "False\n",
      "palindrome\n"
     ]
    }
   ],
   "source": [
    "def is_palindrome(test_string):\n",
    "    # 1. 알파벳 단위 리스트로 쪼개기\n",
    "    s1 = list(test_string)\n",
    "\n",
    "    # 2. 리스트 순서 reverse --> method 참조.\n",
    "    s1.reverse()\n",
    "\n",
    "    # 3. 뒤집은 리스트를 문자열로 합치기\n",
    "    s1_str = ''.join(s1)\n",
    "\n",
    "    # 4. 합친 문자열이 str1과 같으면... palindrome.\n",
    "    if test_string == s1_str:\n",
    "        return True\n",
    "    else:\n",
    "        return False\n",
    "    \n",
    "print(is_palindrome('racecar'))\n",
    "print(is_palindrome('mystring'))\n",
    "\n",
    "if is_palindrome('mom'):\n",
    "    print('palindrome')\n",
    "else:\n",
    "    print('not palindrome')"
   ]
  }
 ],
 "metadata": {
  "kernelspec": {
   "display_name": "Python 3 (ipykernel)",
   "language": "python",
   "name": "python3"
  },
  "language_info": {
   "codemirror_mode": {
    "name": "ipython",
    "version": 3
   },
   "file_extension": ".py",
   "mimetype": "text/x-python",
   "name": "python",
   "nbconvert_exporter": "python",
   "pygments_lexer": "ipython3",
   "version": "3.10.5"
  }
 },
 "nbformat": 4,
 "nbformat_minor": 5
}
